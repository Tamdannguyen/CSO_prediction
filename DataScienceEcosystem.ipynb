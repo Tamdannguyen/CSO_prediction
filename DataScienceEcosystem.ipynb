{
 "cells": [
  {
   "cell_type": "markdown",
   "id": "a85b99f7-c372-47e9-be3e-99541d2268b3",
   "metadata": {},
   "source": [
    "# Data Science Tools and Ecosystem "
   ]
  },
  {
   "cell_type": "markdown",
   "id": "11bfd3b4-539d-43d8-a219-98abcd5218c4",
   "metadata": {},
   "source": [
    "In this notebook, Data Science Tools and Ecosystem are summarized."
   ]
  },
  {
   "cell_type": "markdown",
   "id": "f1e79bf9-0e69-418d-a471-bc6675b2cb36",
   "metadata": {},
   "source": [
    "**Objectives:**\n",
    "- Create a Jupyter Notebook\n",
    "- Create markdown cell with title of the notebook\n",
    "- Create a markdown cell for an introduction\n",
    "- Create a markdown cell to list data science languages\n",
    "- Create a markdown cell to list data science libraries"
   ]
  },
  {
   "cell_type": "markdown",
   "id": "7f554b82-a29e-4008-a67b-93a7b0e1bb2b",
   "metadata": {},
   "source": [
    " Some of the popular languages that Data Scientists use are:\n",
    "1. Python\n",
    "2. R\n",
    "3. C#"
   ]
  },
  {
   "cell_type": "markdown",
   "id": "005b5a04-8c70-4400-9be1-70323d9cd6dc",
   "metadata": {},
   "source": [
    "Some of the commonly used libraries used by Data Scientists include:\n",
    "1. Scikit-learn\n",
    "2. Pandas\n",
    "3. Numpy\n",
    "4. Matplotlib"
   ]
  },
  {
   "cell_type": "markdown",
   "id": "caa7d0a9-ce14-4166-8a1d-09952010d891",
   "metadata": {},
   "source": [
    "| Data Science Tools |\n",
    "| ---------|\n",
    "| SQL |\n",
    "| Apache Airflow |\n",
    "| Git |"
   ]
  },
  {
   "cell_type": "markdown",
   "id": "eaac3f17-1b58-4c73-842d-903c12e64ea0",
   "metadata": {},
   "source": [
    "### Below are a few examples of evaluating arithmetic expressions in Python"
   ]
  },
  {
   "cell_type": "code",
   "execution_count": 4,
   "id": "3dd83513-dc76-4253-ac63-e2437b43bd59",
   "metadata": {},
   "outputs": [
    {
     "data": {
      "text/plain": [
       "17"
      ]
     },
     "execution_count": 4,
     "metadata": {},
     "output_type": "execute_result"
    }
   ],
   "source": [
    "# This a simple arithmetic expression to mutiply then add integers\n",
    "(3*4)+5"
   ]
  },
  {
   "cell_type": "code",
   "execution_count": 10,
   "id": "85c8acf1-1030-4260-a598-8d627f51933f",
   "metadata": {},
   "outputs": [
    {
     "name": "stdin",
     "output_type": "stream",
     "text": [
      "Input number of minute:  200\n"
     ]
    },
    {
     "name": "stdout",
     "output_type": "stream",
     "text": [
      "200 minutes is 3 hours and 20 minutes\n"
     ]
    }
   ],
   "source": [
    "#This will convert 200 minutes to hours by diving by 60\n",
    "minutes = int(input('Input number of minute: '))\n",
    "hours = minutes // 60\n",
    "minutes_remain = minutes % 60\n",
    "print(str(minutes) + ' minutes' + ' is ' + str(hours) + ' hours and ' + str(minutes_remain) + ' minutes')"
   ]
  },
  {
   "cell_type": "markdown",
   "id": "6af221b9-63b6-4437-9595-7a7ee5560ece",
   "metadata": {},
   "source": [
    "## Author\n",
    "Tamdan"
   ]
  },
  {
   "cell_type": "code",
   "execution_count": null,
   "id": "ea72a02b-3175-4958-8712-bc05386694fd",
   "metadata": {},
   "outputs": [],
   "source": []
  }
 ],
 "metadata": {
  "kernelspec": {
   "display_name": "Python 3 (ipykernel)",
   "language": "python",
   "name": "python3"
  },
  "language_info": {
   "codemirror_mode": {
    "name": "ipython",
    "version": 3
   },
   "file_extension": ".py",
   "mimetype": "text/x-python",
   "name": "python",
   "nbconvert_exporter": "python",
   "pygments_lexer": "ipython3",
   "version": "3.11.5"
  }
 },
 "nbformat": 4,
 "nbformat_minor": 5
}
